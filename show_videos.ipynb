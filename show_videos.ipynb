{
 "cells": [
  {
   "cell_type": "code",
   "execution_count": 17,
   "metadata": {},
   "outputs": [],
   "source": [
    "import os\n",
    "\n",
    "import imageio.v2 as imageio\n",
    "from IPython.display import Video, display\n",
    "\n",
    "current_directory = os.getcwd()"
   ]
  },
  {
   "cell_type": "markdown",
   "metadata": {},
   "source": [
    "### Direct_mask video"
   ]
  },
  {
   "cell_type": "code",
   "execution_count": null,
   "metadata": {},
   "outputs": [],
   "source": [
    "scan = \"scene0000_00\"\n",
    "object_id = 37\n",
    "\n",
    "image_directory = os.path.join(current_directory, \"outputs/masked_images/direct/\"+scan, f\"{object_id}\")\n",
    "output_video = 'direct_mask.mp4'\n",
    "\n",
    "images = sorted([f'{image_directory}/{img}' for img in os.listdir(image_directory) if img.endswith('.jpg')])\n",
    "\n",
    "writer = imageio.get_writer(output_video, fps=30)\n",
    "for img in images:\n",
    "    image = imageio.imread(img)\n",
    "    writer.append_data(image)\n",
    "writer.close()\n",
    "\n",
    "display(Video(output_video))"
   ]
  },
  {
   "cell_type": "markdown",
   "metadata": {},
   "source": [
    "### Project_mask video"
   ]
  },
  {
   "cell_type": "code",
   "execution_count": null,
   "metadata": {},
   "outputs": [],
   "source": [
    "scan = \"scene0000_00\"\n",
    "object_id = 37\n",
    "\n",
    "image_directory = os.path.join(current_directory, \"outputs/masked_images/project/\"+scan, f\"{object_id}\")\n",
    "output_video = 'project_mask.mp4'\n",
    "\n",
    "images = sorted([f'{image_directory}/{img}' for img in os.listdir(image_directory) if img.endswith('.jpg')])\n",
    "\n",
    "writer = imageio.get_writer(output_video, fps=30)\n",
    "for img in images:\n",
    "    image = imageio.imread(img)\n",
    "    writer.append_data(image)\n",
    "writer.close()\n",
    "\n",
    "display(Video(output_video))"
   ]
  }
 ],
 "metadata": {
  "kernelspec": {
   "display_name": "practical-work",
   "language": "python",
   "name": "python3"
  },
  "language_info": {
   "codemirror_mode": {
    "name": "ipython",
    "version": 3
   },
   "file_extension": ".py",
   "mimetype": "text/x-python",
   "name": "python",
   "nbconvert_exporter": "python",
   "pygments_lexer": "ipython3",
   "version": "3.10.13"
  }
 },
 "nbformat": 4,
 "nbformat_minor": 2
}
