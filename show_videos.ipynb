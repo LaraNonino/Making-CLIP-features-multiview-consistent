{
 "cells": [
  {
   "cell_type": "code",
   "execution_count": 2,
   "metadata": {},
   "outputs": [],
   "source": [
    "import os\n",
    "\n",
    "import imageio.v2 as imageio\n",
    "from IPython.display import Video, display\n",
    "\n",
    "current_directory = os.getcwd()"
   ]
  },
  {
   "cell_type": "markdown",
   "metadata": {},
   "source": [
    "### Direct_mask video"
   ]
  },
  {
   "cell_type": "code",
   "execution_count": 3,
   "metadata": {},
   "outputs": [
    {
     "name": "stderr",
     "output_type": "stream",
     "text": [
      "IMAGEIO FFMPEG_WRITER WARNING: input image is not divisible by macro_block_size=16, resizing from (1296, 968) to (1296, 976) to ensure video compatibility with most codecs and players. To prevent resizing, make your input image divisible by the macro_block_size or set the macro_block_size to 1 (risking incompatibility).\n"
     ]
    },
    {
     "data": {
      "text/html": [
       "<video src=\"direct_mask.mp4\" controls  >\n",
       "      Your browser does not support the <code>video</code> element.\n",
       "    </video>"
      ],
      "text/plain": [
       "<IPython.core.display.Video object>"
      ]
     },
     "metadata": {},
     "output_type": "display_data"
    }
   ],
   "source": [
    "scan = \"scene0000_00\"\n",
    "object_id = 37\n",
    "\n",
    "image_directory = os.path.join(current_directory, \"outputs/masked_images/direct/\"+scan, f\"{object_id}\")\n",
    "output_video = 'direct_mask.mp4'\n",
    "\n",
    "images = sorted([f'{image_directory}/{img}' for img in os.listdir(image_directory) if img.endswith('.jpg')])\n",
    "\n",
    "writer = imageio.get_writer(output_video, fps=30)\n",
    "for img in images:\n",
    "    image = imageio.imread(img)\n",
    "    writer.append_data(image)\n",
    "writer.close()\n",
    "\n",
    "display(Video(output_video))"
   ]
  },
  {
   "cell_type": "markdown",
   "metadata": {},
   "source": [
    "### Project_mask video"
   ]
  },
  {
   "cell_type": "code",
   "execution_count": 4,
   "metadata": {},
   "outputs": [
    {
     "name": "stderr",
     "output_type": "stream",
     "text": [
      "IMAGEIO FFMPEG_WRITER WARNING: input image is not divisible by macro_block_size=16, resizing from (1296, 968) to (1296, 976) to ensure video compatibility with most codecs and players. To prevent resizing, make your input image divisible by the macro_block_size or set the macro_block_size to 1 (risking incompatibility).\n"
     ]
    },
    {
     "data": {
      "text/html": [
       "<video src=\"project_mask.mp4\" controls  >\n",
       "      Your browser does not support the <code>video</code> element.\n",
       "    </video>"
      ],
      "text/plain": [
       "<IPython.core.display.Video object>"
      ]
     },
     "metadata": {},
     "output_type": "display_data"
    }
   ],
   "source": [
    "scan = \"scene0000_00\"\n",
    "object_id = 37\n",
    "\n",
    "image_directory = os.path.join(current_directory, \"outputs/masked_images/project/\"+scan, f\"{object_id}\")\n",
    "output_video = 'project_mask.mp4'\n",
    "\n",
    "images = sorted([f'{image_directory}/{img}' for img in os.listdir(image_directory) if img.endswith('.jpg')])\n",
    "\n",
    "writer = imageio.get_writer(output_video, fps=30)\n",
    "for img in images:\n",
    "    image = imageio.imread(img)\n",
    "    writer.append_data(image)\n",
    "writer.close()\n",
    "\n",
    "display(Video(output_video))"
   ]
  }
 ],
 "metadata": {
  "kernelspec": {
   "display_name": "practical-work",
   "language": "python",
   "name": "python3"
  },
  "language_info": {
   "codemirror_mode": {
    "name": "ipython",
    "version": 3
   },
   "file_extension": ".py",
   "mimetype": "text/x-python",
   "name": "python",
   "nbconvert_exporter": "python",
   "pygments_lexer": "ipython3",
   "version": "3.10.13"
  }
 },
 "nbformat": 4,
 "nbformat_minor": 2
}
