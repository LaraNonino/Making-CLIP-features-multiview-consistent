{
 "cells": [
  {
   "cell_type": "code",
   "execution_count": 2,
   "metadata": {},
   "outputs": [],
   "source": [
    "import os\n",
    "import subprocess\n",
    "import zipfile\n",
    "\n",
    "current_directory = os.getcwd()"
   ]
  },
  {
   "cell_type": "markdown",
   "metadata": {},
   "source": [
    "## Extraction of sensor files (scenexxxx_xx.sens)"
   ]
  },
  {
   "cell_type": "code",
   "execution_count": null,
   "metadata": {},
   "outputs": [],
   "source": [
    "scans_directory = \"/cluster/project/cvg/data/scannet/scans\"\n",
    "output_dir = os.path.join(current_directory, \"data/scans\")\n",
    "\n",
    "def run_reader(filename, output_path):\n",
    "    command = [\n",
    "        \"python\",\n",
    "        \"scripts/reader.py\",\n",
    "        \"--filename\",\n",
    "        filename,\n",
    "        \"--output_path\",\n",
    "        output_path,\n",
    "        #\"--export_depth_images\",\n",
    "        \"--export_color_images\"\n",
    "        #\"--export_poses\",\n",
    "        #\"--export_intrinsics\"\n",
    "    ]\n",
    "    subprocess.run(command)\n",
    "\n",
    "for folder in os.listdir(scans_directory):\n",
    "    if folder.startswith(\"scene\"):\n",
    "        sensor_file = os.path.join(scans_directory, folder, f\"{folder}.sens\")\n",
    "        output_path = os.path.join(output_dir, folder)\n",
    "        if os.path.isfile(sensor_file):\n",
    "            run_reader(sensor_file, output_path)\n",
    "        else:\n",
    "            print(f\"Sensor file not found for {folder}\")"
   ]
  },
  {
   "cell_type": "markdown",
   "metadata": {},
   "source": [
    "## Extraction of 2D instance-label (scenexxxx_xx_2d-instance-filt.zip & scenexxxx_xx_2d-label-filt.zip)"
   ]
  },
  {
   "cell_type": "markdown",
   "metadata": {},
   "source": [
    "### Unzip files"
   ]
  },
  {
   "cell_type": "code",
   "execution_count": null,
   "metadata": {},
   "outputs": [],
   "source": [
    "zip_files_dir = \"/cluster/project/cvg/data/scannet/scans\"\n",
    "output_dir = os.path.join(current_directory, \"data/convert_scannet\")\n",
    "\n",
    "def unzip_file(zip_file_path, output_dir):\n",
    "    with zipfile.ZipFile(zip_file_path, 'r') as zip_ref:\n",
    "        zip_ref.extractall(output_dir)\n",
    "\n",
    "for folder in os.listdir(zip_files_dir):\n",
    "    if folder.startswith(\"scene\"):\n",
    "        zip_file = os.path.join(zip_files_dir, folder, f\"{folder}_2d-instance-filt.zip\")\n",
    "        output_path = os.path.join(output_dir, f\"{folder}\")\n",
    "        unzip_file(zip_file, output_path)\n",
    "        zip_file = os.path.join(zip_files_dir, folder, f\"{folder}_2d-label-filt.zip\")\n",
    "        output_path = os.path.join(output_dir, f\"{folder}\")\n",
    "        unzip_file(zip_file, output_path)"
   ]
  },
  {
   "cell_type": "markdown",
   "metadata": {},
   "source": [
    "### Convert instance and label images"
   ]
  },
  {
   "cell_type": "code",
   "execution_count": 4,
   "metadata": {},
   "outputs": [],
   "source": [
    "input_dir = os.path.join(current_directory, \"data/convert_scannet\")\n",
    "map_file = os.path.join(current_directory, \"data/scannetv2-labels.combined.tsv\")\n",
    "\n",
    "def run_convert_instance_image(map_file, input_img, label_img, output_img):\n",
    "    command = [\n",
    "        \"python\",\n",
    "        \"scripts/convert_scannet_instance_image.py\",\n",
    "        \"--input_instance_file\",\n",
    "        input_img,\n",
    "        \"--input_label_file\",\n",
    "        label_img,\n",
    "        \"--label_map_file\",\n",
    "        map_file,\n",
    "        \"--output_file\",\n",
    "        output_img\n",
    "    ]\n",
    "    subprocess.run(command)\n",
    "\n",
    "def run_convert_label_image(map_file, label_img, output_img):\n",
    "    command = [\n",
    "        \"python\",\n",
    "        \"scripts/convert_scannet_label_image.py\",\n",
    "        \"--input_file\",\n",
    "        label_img,\n",
    "        \"--label_map_file\",\n",
    "        map_file,\n",
    "        \"--output_file\",\n",
    "        output_img\n",
    "    ]\n",
    "    subprocess.run(command)\n",
    "\n",
    "for folder in os.listdir(input_dir):\n",
    "    if folder.startswith(\"scene\"):\n",
    "        instance_dir = os.path.join(input_dir, folder, \"instance-filt\")\n",
    "        label_dir = os.path.join(input_dir, folder, \"label-filt\")\n",
    "        for img in os.listdir(instance_dir):\n",
    "            run_convert_instance_image(map_file, os.path.join(instance_dir, img), os.path.join(label_dir, img), os.path.join(instance_dir, img))\n",
    "            run_convert_label_image(map_file, os.path.join(label_dir, img), os.path.join(label_dir, img))"
   ]
  },
  {
   "cell_type": "markdown",
   "metadata": {},
   "source": [
    "## Extraction of 3D instance-label (scenexxxx_xx_3d-instance-filt.zip & scenexxxx_xx_3d-label-filt.zip)"
   ]
  },
  {
   "cell_type": "markdown",
   "metadata": {},
   "source": [
    "### Unzip files"
   ]
  },
  {
   "cell_type": "code",
   "execution_count": null,
   "metadata": {},
   "outputs": [],
   "source": []
  }
 ],
 "metadata": {
  "kernelspec": {
   "display_name": "Python 3",
   "language": "python",
   "name": "python3"
  },
  "language_info": {
   "codemirror_mode": {
    "name": "ipython",
    "version": 3
   },
   "file_extension": ".py",
   "mimetype": "text/x-python",
   "name": "python",
   "nbconvert_exporter": "python",
   "pygments_lexer": "ipython3",
   "version": "3.10.13"
  }
 },
 "nbformat": 4,
 "nbformat_minor": 2
}
